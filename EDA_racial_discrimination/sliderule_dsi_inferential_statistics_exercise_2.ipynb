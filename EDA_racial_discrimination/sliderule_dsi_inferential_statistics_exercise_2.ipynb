{
 "cells": [
  {
   "cell_type": "markdown",
   "metadata": {},
   "source": [
    "# Examining Racial Discrimination in the US Job Market\n",
    "\n",
    "### Background\n",
    "Racial discrimination continues to be pervasive in cultures throughout the world. Researchers examined the level of racial discrimination in the United States labor market by randomly assigning identical résumés to black-sounding or white-sounding names and observing the impact on requests for interviews from employers.\n",
    "\n",
    "### Data\n",
    "In the dataset provided, each row represents a resume. The 'race' column has two values, 'b' and 'w', indicating black-sounding and white-sounding. The column 'call' has two values, 1 and 0, indicating whether the resume received a call from employers or not.\n",
    "\n",
    "Note that the 'b' and 'w' values in race are assigned randomly to the resumes when presented to the employer."
   ]
  },
  {
   "cell_type": "markdown",
   "metadata": {},
   "source": [
    "### Exercises\n",
    "You will perform a statistical analysis to establish whether race has a significant impact on the rate of callbacks for resumes.\n",
    "\n",
    "Answer the following questions **in this notebook below and submit to your Github account**. \n",
    "\n",
    "   1. What test is appropriate for this problem? Does CLT apply?\n",
    "   2. What are the null and alternate hypotheses?\n",
    "   3. Compute margin of error, confidence interval, and p-value. Try using both the bootstrapping and the frequentist statistical approaches.\n",
    "   4. Write a story describing the statistical significance in the context or the original problem.\n",
    "   5. Does your analysis mean that race/name is the most important factor in callback success? Why or why not? If not, how would you amend your analysis?\n",
    "\n",
    "You can include written notes in notebook cells using Markdown: \n",
    "   - In the control panel at the top, choose Cell > Cell Type > Markdown\n",
    "   - Markdown syntax: http://nestacms.com/docs/creating-content/markdown-cheat-sheet\n",
    "\n",
    "#### Resources\n",
    "+ Experiment information and data source: http://www.povertyactionlab.org/evaluation/discrimination-job-market-united-states\n",
    "+ Scipy statistical methods: http://docs.scipy.org/doc/scipy/reference/stats.html \n",
    "+ Markdown syntax: http://nestacms.com/docs/creating-content/markdown-cheat-sheet\n",
    "+ Formulas for the Bernoulli distribution: https://en.wikipedia.org/wiki/Bernoulli_distribution"
   ]
  },
  {
   "cell_type": "code",
   "execution_count": 50,
   "metadata": {},
   "outputs": [],
   "source": [
    "import pandas as pd\n",
    "import numpy as np\n",
    "import matplotlib.pyplot as plt\n",
    "from scipy import stats\n",
    "from scipy.stats import norm"
   ]
  },
  {
   "cell_type": "code",
   "execution_count": 12,
   "metadata": {},
   "outputs": [],
   "source": [
    "data = pd.io.stata.read_stata('data/us_job_market_discrimination.dta')"
   ]
  },
  {
   "cell_type": "code",
   "execution_count": 70,
   "metadata": {},
   "outputs": [
    {
     "data": {
      "text/html": [
       "<div>\n",
       "<style scoped>\n",
       "    .dataframe tbody tr th:only-of-type {\n",
       "        vertical-align: middle;\n",
       "    }\n",
       "\n",
       "    .dataframe tbody tr th {\n",
       "        vertical-align: top;\n",
       "    }\n",
       "\n",
       "    .dataframe thead th {\n",
       "        text-align: right;\n",
       "    }\n",
       "</style>\n",
       "<table border=\"1\" class=\"dataframe\">\n",
       "  <thead>\n",
       "    <tr style=\"text-align: right;\">\n",
       "      <th></th>\n",
       "      <th>id</th>\n",
       "      <th>ad</th>\n",
       "      <th>education</th>\n",
       "      <th>ofjobs</th>\n",
       "      <th>yearsexp</th>\n",
       "      <th>honors</th>\n",
       "      <th>volunteer</th>\n",
       "      <th>military</th>\n",
       "      <th>empholes</th>\n",
       "      <th>occupspecific</th>\n",
       "      <th>...</th>\n",
       "      <th>compreq</th>\n",
       "      <th>orgreq</th>\n",
       "      <th>manuf</th>\n",
       "      <th>transcom</th>\n",
       "      <th>bankreal</th>\n",
       "      <th>trade</th>\n",
       "      <th>busservice</th>\n",
       "      <th>othservice</th>\n",
       "      <th>missind</th>\n",
       "      <th>ownership</th>\n",
       "    </tr>\n",
       "  </thead>\n",
       "  <tbody>\n",
       "    <tr>\n",
       "      <th>0</th>\n",
       "      <td>b</td>\n",
       "      <td>1</td>\n",
       "      <td>4</td>\n",
       "      <td>2</td>\n",
       "      <td>6</td>\n",
       "      <td>0</td>\n",
       "      <td>0</td>\n",
       "      <td>0</td>\n",
       "      <td>1</td>\n",
       "      <td>17</td>\n",
       "      <td>...</td>\n",
       "      <td>1.0</td>\n",
       "      <td>0.0</td>\n",
       "      <td>1.0</td>\n",
       "      <td>0.0</td>\n",
       "      <td>0.0</td>\n",
       "      <td>0.0</td>\n",
       "      <td>0.0</td>\n",
       "      <td>0.0</td>\n",
       "      <td>0.0</td>\n",
       "      <td></td>\n",
       "    </tr>\n",
       "    <tr>\n",
       "      <th>1</th>\n",
       "      <td>b</td>\n",
       "      <td>1</td>\n",
       "      <td>3</td>\n",
       "      <td>3</td>\n",
       "      <td>6</td>\n",
       "      <td>0</td>\n",
       "      <td>1</td>\n",
       "      <td>1</td>\n",
       "      <td>0</td>\n",
       "      <td>316</td>\n",
       "      <td>...</td>\n",
       "      <td>1.0</td>\n",
       "      <td>0.0</td>\n",
       "      <td>1.0</td>\n",
       "      <td>0.0</td>\n",
       "      <td>0.0</td>\n",
       "      <td>0.0</td>\n",
       "      <td>0.0</td>\n",
       "      <td>0.0</td>\n",
       "      <td>0.0</td>\n",
       "      <td></td>\n",
       "    </tr>\n",
       "    <tr>\n",
       "      <th>2</th>\n",
       "      <td>b</td>\n",
       "      <td>1</td>\n",
       "      <td>4</td>\n",
       "      <td>1</td>\n",
       "      <td>6</td>\n",
       "      <td>0</td>\n",
       "      <td>0</td>\n",
       "      <td>0</td>\n",
       "      <td>0</td>\n",
       "      <td>19</td>\n",
       "      <td>...</td>\n",
       "      <td>1.0</td>\n",
       "      <td>0.0</td>\n",
       "      <td>1.0</td>\n",
       "      <td>0.0</td>\n",
       "      <td>0.0</td>\n",
       "      <td>0.0</td>\n",
       "      <td>0.0</td>\n",
       "      <td>0.0</td>\n",
       "      <td>0.0</td>\n",
       "      <td></td>\n",
       "    </tr>\n",
       "    <tr>\n",
       "      <th>3</th>\n",
       "      <td>b</td>\n",
       "      <td>1</td>\n",
       "      <td>3</td>\n",
       "      <td>4</td>\n",
       "      <td>6</td>\n",
       "      <td>0</td>\n",
       "      <td>1</td>\n",
       "      <td>0</td>\n",
       "      <td>1</td>\n",
       "      <td>313</td>\n",
       "      <td>...</td>\n",
       "      <td>1.0</td>\n",
       "      <td>0.0</td>\n",
       "      <td>1.0</td>\n",
       "      <td>0.0</td>\n",
       "      <td>0.0</td>\n",
       "      <td>0.0</td>\n",
       "      <td>0.0</td>\n",
       "      <td>0.0</td>\n",
       "      <td>0.0</td>\n",
       "      <td></td>\n",
       "    </tr>\n",
       "    <tr>\n",
       "      <th>4</th>\n",
       "      <td>b</td>\n",
       "      <td>1</td>\n",
       "      <td>3</td>\n",
       "      <td>3</td>\n",
       "      <td>22</td>\n",
       "      <td>0</td>\n",
       "      <td>0</td>\n",
       "      <td>0</td>\n",
       "      <td>0</td>\n",
       "      <td>313</td>\n",
       "      <td>...</td>\n",
       "      <td>1.0</td>\n",
       "      <td>1.0</td>\n",
       "      <td>0.0</td>\n",
       "      <td>0.0</td>\n",
       "      <td>0.0</td>\n",
       "      <td>0.0</td>\n",
       "      <td>0.0</td>\n",
       "      <td>1.0</td>\n",
       "      <td>0.0</td>\n",
       "      <td>Nonprofit</td>\n",
       "    </tr>\n",
       "  </tbody>\n",
       "</table>\n",
       "<p>5 rows × 65 columns</p>\n",
       "</div>"
      ],
      "text/plain": [
       "  id ad  education  ofjobs  yearsexp  honors  volunteer  military  empholes  \\\n",
       "0  b  1          4       2         6       0          0         0         1   \n",
       "1  b  1          3       3         6       0          1         1         0   \n",
       "2  b  1          4       1         6       0          0         0         0   \n",
       "3  b  1          3       4         6       0          1         0         1   \n",
       "4  b  1          3       3        22       0          0         0         0   \n",
       "\n",
       "   occupspecific    ...      compreq  orgreq  manuf  transcom  bankreal trade  \\\n",
       "0             17    ...          1.0     0.0    1.0       0.0       0.0   0.0   \n",
       "1            316    ...          1.0     0.0    1.0       0.0       0.0   0.0   \n",
       "2             19    ...          1.0     0.0    1.0       0.0       0.0   0.0   \n",
       "3            313    ...          1.0     0.0    1.0       0.0       0.0   0.0   \n",
       "4            313    ...          1.0     1.0    0.0       0.0       0.0   0.0   \n",
       "\n",
       "  busservice othservice  missind  ownership  \n",
       "0        0.0        0.0      0.0             \n",
       "1        0.0        0.0      0.0             \n",
       "2        0.0        0.0      0.0             \n",
       "3        0.0        0.0      0.0             \n",
       "4        0.0        1.0      0.0  Nonprofit  \n",
       "\n",
       "[5 rows x 65 columns]"
      ]
     },
     "execution_count": 70,
     "metadata": {},
     "output_type": "execute_result"
    }
   ],
   "source": [
    "data.head()"
   ]
  },
  {
   "cell_type": "markdown",
   "metadata": {
    "collapsed": true
   },
   "source": [
    "### Question 1\n",
    "The appropriate test for this problem would be a test for a difference in proportion between two groups. What we want to know is whether the probability of receiving a callback is different between black vs. white individuals. The central limit theorem applies in this instance if the sampling distributions for the proportions in both populations are approximately normal. This will occur if np>=10 and n(p-1)>=10. Because these terms refer to the number of individuals that are in each of our relevant cells (w/b X callback/no callback), we can grab those values from our dataset to see if CLT applies:  "
   ]
  },
  {
   "cell_type": "code",
   "execution_count": 20,
   "metadata": {},
   "outputs": [
    {
     "data": {
      "text/plain": [
       "race  call\n",
       "b     0.0     2278\n",
       "      1.0      157\n",
       "w     0.0     2200\n",
       "      1.0      235\n",
       "Name: id, dtype: int64"
      ]
     },
     "execution_count": 20,
     "metadata": {},
     "output_type": "execute_result"
    }
   ],
   "source": [
    "#Group data by race and call, count instances in each\n",
    "data.groupby(['race','call']).count().id"
   ]
  },
  {
   "cell_type": "markdown",
   "metadata": {
    "collapsed": true
   },
   "source": [
    "Because there are more than 10 observations in each cell (the lowest being 157), we can safely assume a normal sampling distribution and apply the CLT."
   ]
  },
  {
   "cell_type": "markdown",
   "metadata": {},
   "source": [
    "### Question 2\n",
    "The null hypothesis for this test is that the there is no difference in the proportion of callbacks received by black vs. white individuals. The alternate hypothesis is that probability of receiving a callback differs for black vs. white individuals.\n",
    "\n",
    "### Question 3\n",
    "#### Bootstrap method\n",
    "We will first test for a difference in proportions using a bootstrap approach. Because our null hypothesis is that there is no group difference, we will create permutation samples that ignore race, and then generate the relevant permutation replicates, which are the differences in proportion between each pair of samples. We will then calculate what proportion of these replicates have a value that is at least as large as the observed difference in our data. To generate the confidence interval and determine whether we should reject our null hypothesis, we will use an alpha of 0.05:\n"
   ]
  },
  {
   "cell_type": "code",
   "execution_count": 59,
   "metadata": {},
   "outputs": [
    {
     "name": "stdout",
     "output_type": "stream",
     "text": [
      "Observed difference in group proportions:  0.032032854209445585\n",
      "95% Confidence interval:  [-0.02710472 -0.01806982]\n",
      "p-value: 0.0\n"
     ]
    },
    {
     "data": {
      "image/png": "[encoded data removed]",
      "text/plain": [
       "<Figure size 432x288 with 1 Axes>"
      ]
     },
     "metadata": {
      "needs_background": "light"
     },
     "output_type": "display_data"
    }
   ],
   "source": [
    "#Set alpha, num reps, and seed\n",
    "alpha = 0.05\n",
    "n_reps = 10000\n",
    "np.random.seed(42)\n",
    "\n",
    "#Function for calculating difference in proportion\n",
    "def diff_prop(data_A, data_B):\n",
    "    prop_A = np.sum(data_A) / len(data_A)\n",
    "    prop_B = np.sum(data_B) / len(data_B)\n",
    "    return prop_B - prop_A\n",
    "\n",
    "#Function for generating permutation sample for two groups\n",
    "def permutation_sample(data1, data2):\n",
    "    \"\"\"Generate a permutation sample from two data sets.\"\"\"\n",
    "\n",
    "    # Concatenate the data sets: data\n",
    "    data = np.concatenate((data1, data2))\n",
    "\n",
    "    # Permute the concatenated array: permuted_data\n",
    "    permuted_data = np.random.permutation(data, )\n",
    "\n",
    "    # Split the permuted array into two: perm_sample_1, perm_sample_2\n",
    "    perm_sample_1 = permuted_data[:len(data1)]\n",
    "    perm_sample_2 = permuted_data[len(data1):]\n",
    "\n",
    "    return perm_sample_1, perm_sample_2\n",
    "\n",
    "#Function for generating permutation replicates\n",
    "def draw_perm_reps(data_1, data_2, func, size=1):\n",
    "    \"\"\"Generate multiple permutation replicates.\"\"\"\n",
    "\n",
    "    # Initialize array of replicates: perm_replicates\n",
    "    perm_replicates = np.empty(size)\n",
    "\n",
    "    for i in range(size):\n",
    "        # Generate permutation sample\n",
    "        perm_sample_1, perm_sample_2 = permutation_sample(data_1, data_2)\n",
    "\n",
    "        # Compute the test statistic\n",
    "        perm_replicates[i] = func(perm_sample_1, perm_sample_2)\n",
    "\n",
    "    return perm_replicates\n",
    "\n",
    "#Grab callback data for black names and white names\n",
    "b_call = data[data.race=='b'].call\n",
    "w_call = data[data.race=='w'].call\n",
    "\n",
    "#Calculate observed difference in proportion of callbacks between groups\n",
    "diff_prop_obs = diff_prop(b_call, w_call)\n",
    "\n",
    "#Generate permutation replicates for diff in proportions\n",
    "perm_reps = draw_perm_reps(b_call, w_call, diff_prop, size=n_reps)\n",
    "\n",
    "#Calculate confidence interval for p=0.05\n",
    "CI = np.percentile(perm_reps, [alpha/2, 1-(alpha/2)])\n",
    "\n",
    "#Calculate p-value for observed difference in proportion\n",
    "p_value = np.sum(perm_reps >= diff_prop_obs) / n_reps\n",
    "\n",
    "#plot histogram of sampling distrubtion\n",
    "_ = plt.hist(perm_reps, bins=30)\n",
    "_ = plt.xlabel(\"Difference in proportion b/t permutation samples\")\n",
    "_ = plt.ylabel(\"Count\")\n",
    "_ = plt.axvline(x=diff_prop_obs, color='red')\n",
    "\n",
    "print(\"Observed difference in group proportions: \", diff_prop_obs)\n",
    "print(\"95% Confidence interval: \", CI)\n",
    "print(\"p-value:\", p_value)\n"
   ]
  },
  {
   "cell_type": "markdown",
   "metadata": {},
   "source": [
    "Our observed difference (indicated by the red line in the plot) is well outside of our confidence interval range. Our p-value is also indistinguishable from zero, indicating that not a single replicate out of 10,000 had a value as extreme as the observed difference. This leads us to reject the null hypothesis and conclude that race does make a difference in callback probability.\n",
    "\n",
    "We can also construct a confidence interval for the actual difference in proportions by creating bootstrap samples for each group separately, then calculating the difference in proportion for each pair of samples: "
   ]
  },
  {
   "cell_type": "code",
   "execution_count": 66,
   "metadata": {},
   "outputs": [
    {
     "name": "stdout",
     "output_type": "stream",
     "text": [
      "Confidence interval for difference in population proportions:  [0.01683778 0.04722792]\n"
     ]
    }
   ],
   "source": [
    "#Define bootstrap replicate function\n",
    "def bootstrap_replicate_1d(data, func):\n",
    "    return func(np.random.choice(data, size=len(data)))\n",
    "\n",
    "#Define draw_bs_reps function\n",
    "def draw_bs_reps(data, func, size=1):\n",
    "    \"\"\"Draw bootstrap replicates.\"\"\"\n",
    "\n",
    "    # Initialize array of replicates: bs_replicates\n",
    "    bs_replicates = np.empty(size)\n",
    "\n",
    "    # Generate replicates\n",
    "    for i in range(size):\n",
    "        bs_replicates[i] = bootstrap_replicate_1d(data, func)\n",
    "\n",
    "    return bs_replicates\n",
    "\n",
    "w_bs = draw_bs_reps(w_call, np.mean, size=10000)\n",
    "b_bs = draw_bs_reps(b_call, np.mean, size=10000)\n",
    "\n",
    "diff_dist = w_bs - b_bs\n",
    "\n",
    "CI_new = np.percentile(diff_dist, [2.5, 97.5])\n",
    "print(\"Confidence interval for difference in population proportions: \", CI_new)"
   ]
  },
  {
   "cell_type": "markdown",
   "metadata": {},
   "source": [
    "Because this interval does not include 0, we can also conclude from this approach that race is a factor in the likelihood of receiving a callback.\n",
    "\n",
    "#### Frequentist method\n",
    "Under the frequentist method, we will test our hypothesis by first calculating a z-statistic that corresponds to sampling distribution of differences in proportion. The numerator will be the observed difference in proportion, and the denominator will be the standard deviation of the the sampling distribution of differences:"
   ]
  },
  {
   "cell_type": "code",
   "execution_count": 67,
   "metadata": {},
   "outputs": [
    {
     "name": "stdout",
     "output_type": "stream",
     "text": [
      "p-value:  1.991943418788722e-05\n",
      "Margin of error: +- 0.015281631502169232\n",
      "95% Confidence Interval:  [0.01675122270727635, 0.04731448571161482]\n"
     ]
    }
   ],
   "source": [
    "#Calculate combined proportion for estimating std error\n",
    "comb_prop = (sum(b_call) + sum(w_call)) / len(data)\n",
    "\n",
    "#Calculate estimate for variance of sampling distribution and take sqrt to get std error\n",
    "std_error = np.sqrt(comb_prop*(1-comb_prop)/len(b_call) + comb_prop*(1-comb_prop)/len(w_call))\n",
    "\n",
    "#Calculate z-score\n",
    "z = diff_prop_obs / std_error\n",
    "\n",
    "#Calculate p-value from z-score under normal distribution\n",
    "p_value_f = 1 - norm.cdf(z)\n",
    "print(\"p-value: \", p_value_f)\n",
    "\n",
    "#Calculate margin of error for 95% CI\n",
    "ME_f = norm.ppf(1-(alpha/2)) * std_error\n",
    "print(\"Margin of error: +-\", ME_f)\n",
    "\n",
    "#Calculate 95% CI\n",
    "CI_f = [diff_prop_obs - ME_f, diff_prop_obs + ME_f]\n",
    "print(\"95% Confidence Interval: \", CI_f)"
   ]
  },
  {
   "cell_type": "markdown",
   "metadata": {},
   "source": [
    "Using the frequentist method, we obtain an answer that is very similar to the bootstrap approach. The p-value indicates that there is very small probability of obtaining a difference of proportions as large as we did by chance. The confidence interval also is very similar to the one obtained through bootstrapping.\n",
    "\n",
    "### Questions 4 and 5\n",
    "\n",
    "Looking at the p-values above, we can reasonably conclude that race is a statistically significant factor in the likelihood of receiving a job callback. The 95% confidence interval ranges from roughly 0.017 to 0.047, meaning that there is likely between a 1.7% and 4.7% increase in the chance of receiving a callback if you have a white-sounding name compared to a black-sounding name. Though this may appear to be a relatively small advantage, for many people who are on the threshold of being considered for a job, it may prove to be decisive. \n",
    "\n",
    "However, it also indicates that race is in no way decisive for all individuals. After all, individuals with white-sounding names only received callbacks in approximately 9.6% of cases (compared to 6.4% of those with black-sounding names). This suggests that there are other factors that may be even more important in determining who gets a call. To test this idea, we could run similar analyses with other variables in our dataset. For instance, education and years of experience would appear to be good candidates, as would the type of industry in which the individual has been employed."
   ]
  },
  {
   "cell_type": "code",
   "execution_count": null,
   "metadata": {},
   "outputs": [],
   "source": []
  }
 ],
 "metadata": {
  "kernelspec": {
   "display_name": "Python 3",
   "language": "python",
   "name": "python3"
  },
  "language_info": {
   "codemirror_mode": {
    "name": "ipython",
    "version": 3
   },
   "file_extension": ".py",
   "mimetype": "text/x-python",
   "name": "python",
   "nbconvert_exporter": "python",
   "pygments_lexer": "ipython3",
   "version": "3.7.1"
  }
 },
 "nbformat": 4,
 "nbformat_minor": 1
}
